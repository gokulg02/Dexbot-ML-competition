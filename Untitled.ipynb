{
 "cells": [
  {
   "cell_type": "code",
   "execution_count": 1,
   "id": "4f33eb8b",
   "metadata": {},
   "outputs": [],
   "source": [
    "import numpy as np\n",
    "import pandas as pd\n",
    "import matplotlib.pyplot as plt"
   ]
  },
  {
   "cell_type": "code",
   "execution_count": 10,
   "id": "0fc3fa5a",
   "metadata": {},
   "outputs": [],
   "source": [
    "data = pd.read_csv('wine_dataset.csv')"
   ]
  },
  {
   "cell_type": "markdown",
   "id": "f00b05f1",
   "metadata": {},
   "source": [
    "__1. Display the first seven rows of dataset.__\n",
    "<br>(1 points)"
   ]
  },
  {
   "cell_type": "code",
   "execution_count": 83,
   "id": "44c21404",
   "metadata": {},
   "outputs": [
    {
     "data": {
      "text/html": [
       "<div>\n",
       "<style scoped>\n",
       "    .dataframe tbody tr th:only-of-type {\n",
       "        vertical-align: middle;\n",
       "    }\n",
       "\n",
       "    .dataframe tbody tr th {\n",
       "        vertical-align: top;\n",
       "    }\n",
       "\n",
       "    .dataframe thead th {\n",
       "        text-align: right;\n",
       "    }\n",
       "</style>\n",
       "<table border=\"1\" class=\"dataframe\">\n",
       "  <thead>\n",
       "    <tr style=\"text-align: right;\">\n",
       "      <th></th>\n",
       "      <th>fixed acidity</th>\n",
       "      <th>volatile acidity</th>\n",
       "      <th>citric acid</th>\n",
       "      <th>residual sugar</th>\n",
       "      <th>chlorides</th>\n",
       "      <th>free sulfur dioxide</th>\n",
       "      <th>total sulfur dioxide</th>\n",
       "      <th>density</th>\n",
       "      <th>pH</th>\n",
       "      <th>sulphates</th>\n",
       "      <th>alcohol</th>\n",
       "      <th>quality</th>\n",
       "    </tr>\n",
       "  </thead>\n",
       "  <tbody>\n",
       "    <tr>\n",
       "      <th>0</th>\n",
       "      <td>7.4</td>\n",
       "      <td>0.70</td>\n",
       "      <td>0.00</td>\n",
       "      <td>1.9</td>\n",
       "      <td>0.076</td>\n",
       "      <td>11.0</td>\n",
       "      <td>34.0</td>\n",
       "      <td>0.9978</td>\n",
       "      <td>3.51</td>\n",
       "      <td>0.56</td>\n",
       "      <td>9.4</td>\n",
       "      <td>5</td>\n",
       "    </tr>\n",
       "    <tr>\n",
       "      <th>1</th>\n",
       "      <td>7.8</td>\n",
       "      <td>0.88</td>\n",
       "      <td>0.00</td>\n",
       "      <td>2.6</td>\n",
       "      <td>0.098</td>\n",
       "      <td>25.0</td>\n",
       "      <td>67.0</td>\n",
       "      <td>0.9968</td>\n",
       "      <td>3.20</td>\n",
       "      <td>0.68</td>\n",
       "      <td>9.8</td>\n",
       "      <td>5</td>\n",
       "    </tr>\n",
       "    <tr>\n",
       "      <th>2</th>\n",
       "      <td>7.8</td>\n",
       "      <td>0.76</td>\n",
       "      <td>0.04</td>\n",
       "      <td>2.3</td>\n",
       "      <td>0.092</td>\n",
       "      <td>15.0</td>\n",
       "      <td>54.0</td>\n",
       "      <td>0.9970</td>\n",
       "      <td>3.26</td>\n",
       "      <td>0.65</td>\n",
       "      <td>9.8</td>\n",
       "      <td>5</td>\n",
       "    </tr>\n",
       "    <tr>\n",
       "      <th>3</th>\n",
       "      <td>11.2</td>\n",
       "      <td>0.28</td>\n",
       "      <td>0.56</td>\n",
       "      <td>1.9</td>\n",
       "      <td>0.075</td>\n",
       "      <td>17.0</td>\n",
       "      <td>60.0</td>\n",
       "      <td>0.9980</td>\n",
       "      <td>3.16</td>\n",
       "      <td>0.58</td>\n",
       "      <td>9.8</td>\n",
       "      <td>6</td>\n",
       "    </tr>\n",
       "    <tr>\n",
       "      <th>5</th>\n",
       "      <td>7.4</td>\n",
       "      <td>0.66</td>\n",
       "      <td>0.00</td>\n",
       "      <td>1.8</td>\n",
       "      <td>0.075</td>\n",
       "      <td>13.0</td>\n",
       "      <td>40.0</td>\n",
       "      <td>0.9978</td>\n",
       "      <td>3.51</td>\n",
       "      <td>0.56</td>\n",
       "      <td>9.4</td>\n",
       "      <td>5</td>\n",
       "    </tr>\n",
       "    <tr>\n",
       "      <th>6</th>\n",
       "      <td>7.9</td>\n",
       "      <td>0.60</td>\n",
       "      <td>0.06</td>\n",
       "      <td>1.6</td>\n",
       "      <td>0.069</td>\n",
       "      <td>15.0</td>\n",
       "      <td>59.0</td>\n",
       "      <td>0.9964</td>\n",
       "      <td>3.30</td>\n",
       "      <td>0.46</td>\n",
       "      <td>9.4</td>\n",
       "      <td>5</td>\n",
       "    </tr>\n",
       "    <tr>\n",
       "      <th>7</th>\n",
       "      <td>7.3</td>\n",
       "      <td>0.65</td>\n",
       "      <td>0.00</td>\n",
       "      <td>1.2</td>\n",
       "      <td>0.065</td>\n",
       "      <td>15.0</td>\n",
       "      <td>21.0</td>\n",
       "      <td>0.9946</td>\n",
       "      <td>3.39</td>\n",
       "      <td>0.47</td>\n",
       "      <td>10.0</td>\n",
       "      <td>7</td>\n",
       "    </tr>\n",
       "  </tbody>\n",
       "</table>\n",
       "</div>"
      ],
      "text/plain": [
       "   fixed acidity  volatile acidity  citric acid  residual sugar  chlorides  \\\n",
       "0            7.4              0.70         0.00             1.9      0.076   \n",
       "1            7.8              0.88         0.00             2.6      0.098   \n",
       "2            7.8              0.76         0.04             2.3      0.092   \n",
       "3           11.2              0.28         0.56             1.9      0.075   \n",
       "5            7.4              0.66         0.00             1.8      0.075   \n",
       "6            7.9              0.60         0.06             1.6      0.069   \n",
       "7            7.3              0.65         0.00             1.2      0.065   \n",
       "\n",
       "   free sulfur dioxide  total sulfur dioxide  density    pH  sulphates  \\\n",
       "0                 11.0                  34.0   0.9978  3.51       0.56   \n",
       "1                 25.0                  67.0   0.9968  3.20       0.68   \n",
       "2                 15.0                  54.0   0.9970  3.26       0.65   \n",
       "3                 17.0                  60.0   0.9980  3.16       0.58   \n",
       "5                 13.0                  40.0   0.9978  3.51       0.56   \n",
       "6                 15.0                  59.0   0.9964  3.30       0.46   \n",
       "7                 15.0                  21.0   0.9946  3.39       0.47   \n",
       "\n",
       "   alcohol  quality  \n",
       "0      9.4        5  \n",
       "1      9.8        5  \n",
       "2      9.8        5  \n",
       "3      9.8        6  \n",
       "5      9.4        5  \n",
       "6      9.4        5  \n",
       "7     10.0        7  "
      ]
     },
     "execution_count": 83,
     "metadata": {},
     "output_type": "execute_result"
    }
   ],
   "source": [
    "data.head(7)"
   ]
  },
  {
   "cell_type": "markdown",
   "id": "704a6cf3",
   "metadata": {},
   "source": [
    "__2. Find the number of entries and attributes in given dataset.__\n",
    "<br>(1 point)"
   ]
  },
  {
   "cell_type": "code",
   "execution_count": 12,
   "id": "acdd00ed",
   "metadata": {},
   "outputs": [
    {
     "name": "stdout",
     "output_type": "stream",
     "text": [
      "No. of entries: 1599\n",
      "No. of entries: 12\n"
     ]
    }
   ],
   "source": [
    "print(\"No. of entries:\", len(data.index))\n",
    "print(\"No. of entries:\", len(data.columns))"
   ]
  },
  {
   "cell_type": "markdown",
   "id": "227bf023",
   "metadata": {},
   "source": [
    "__3. Find the number of empty elements in dataset and eliminate them using any appropriate method. Also explain the reason behind using that method.__\n",
    "<br>(2 points)"
   ]
  },
  {
   "cell_type": "code",
   "execution_count": 14,
   "id": "e41d2cd9",
   "metadata": {},
   "outputs": [
    {
     "data": {
      "text/plain": [
       "fixed acidity           1\n",
       "volatile acidity        1\n",
       "citric acid             0\n",
       "residual sugar          0\n",
       "chlorides               1\n",
       "free sulfur dioxide     2\n",
       "total sulfur dioxide    0\n",
       "density                 0\n",
       "pH                      0\n",
       "sulphates               2\n",
       "alcohol                 0\n",
       "quality                 0\n",
       "dtype: int64"
      ]
     },
     "execution_count": 14,
     "metadata": {},
     "output_type": "execute_result"
    }
   ],
   "source": [
    "data.isnull().sum()"
   ]
  },
  {
   "cell_type": "code",
   "execution_count": 17,
   "id": "e9ca97ce",
   "metadata": {},
   "outputs": [],
   "source": [
    "#Since the number of empty elements is less compared to total number of entries, the entries with empty elements can be deleted.\n",
    "data = data.dropna()"
   ]
  },
  {
   "cell_type": "code",
   "execution_count": 18,
   "id": "5005f9c1",
   "metadata": {},
   "outputs": [
    {
     "data": {
      "text/plain": [
       "fixed acidity           0\n",
       "volatile acidity        0\n",
       "citric acid             0\n",
       "residual sugar          0\n",
       "chlorides               0\n",
       "free sulfur dioxide     0\n",
       "total sulfur dioxide    0\n",
       "density                 0\n",
       "pH                      0\n",
       "sulphates               0\n",
       "alcohol                 0\n",
       "quality                 0\n",
       "dtype: int64"
      ]
     },
     "execution_count": 18,
     "metadata": {},
     "output_type": "execute_result"
    }
   ],
   "source": [
    "data.isnull().sum()"
   ]
  },
  {
   "cell_type": "markdown",
   "id": "3c58dc6e",
   "metadata": {},
   "source": [
    "__4. Find the number of duplicate elements in a dataset and eliminate them.__\n",
    "<br>(2 points)"
   ]
  },
  {
   "cell_type": "code",
   "execution_count": 20,
   "id": "0cac719e",
   "metadata": {},
   "outputs": [
    {
     "data": {
      "text/plain": [
       "236"
      ]
     },
     "execution_count": 20,
     "metadata": {},
     "output_type": "execute_result"
    }
   ],
   "source": [
    "data.duplicated().sum()"
   ]
  },
  {
   "cell_type": "code",
   "execution_count": 22,
   "id": "2443ef03",
   "metadata": {},
   "outputs": [],
   "source": [
    "data = data.drop_duplicates()"
   ]
  },
  {
   "cell_type": "code",
   "execution_count": 23,
   "id": "6d3709ab",
   "metadata": {},
   "outputs": [
    {
     "data": {
      "text/plain": [
       "0"
      ]
     },
     "execution_count": 23,
     "metadata": {},
     "output_type": "execute_result"
    }
   ],
   "source": [
    "data.duplicated().sum()"
   ]
  },
  {
   "cell_type": "markdown",
   "id": "83cb4e35",
   "metadata": {},
   "source": [
    "__5. Find the number of occurances of each value in the attribute \"quality\".__\n",
    "<br>(1 point)"
   ]
  },
  {
   "cell_type": "code",
   "execution_count": 28,
   "id": "6e08d9d0",
   "metadata": {},
   "outputs": [
    {
     "data": {
      "text/plain": [
       "5    575\n",
       "6    534\n",
       "7    167\n",
       "4     53\n",
       "8     17\n",
       "3     10\n",
       "Name: quality, dtype: int64"
      ]
     },
     "execution_count": 28,
     "metadata": {},
     "output_type": "execute_result"
    }
   ],
   "source": [
    "(data[data.columns[-1]]).value_counts()"
   ]
  },
  {
   "cell_type": "markdown",
   "id": "3077078e",
   "metadata": {},
   "source": [
    "__6. Find the maximum element in first column and the row number in which it occurs.__\n",
    "<br>(1 point)"
   ]
  },
  {
   "cell_type": "code",
   "execution_count": 32,
   "id": "62693c30",
   "metadata": {},
   "outputs": [
    {
     "name": "stdout",
     "output_type": "stream",
     "text": [
      "Max value in 1st colums: 15.9\n",
      "Max value row number: 652\n"
     ]
    }
   ],
   "source": [
    "print(\"Max value in 1st colums:\",(data[data.columns[0]]).max())\n",
    "print(\"Max value row number:\",(data[data.columns[0]]).idxmax())"
   ]
  },
  {
   "cell_type": "markdown",
   "id": "190f48f8",
   "metadata": {},
   "source": [
    "__7. Create a new data frame \"data_mod\" with the last four columns and the column 'chlorides'  from \"data\". Also \"data_new\" should consist only of the last 500 rows from \"data\".__\n",
    "<br>(2 points)"
   ]
  },
  {
   "cell_type": "code",
   "execution_count": 53,
   "id": "73e2dc87",
   "metadata": {},
   "outputs": [],
   "source": [
    "l = data.columns\n",
    "ind = [l[4]]\n",
    "ind.extend(l[-1:-5:-1][::-1])\n",
    "data_new = data[ind]"
   ]
  },
  {
   "cell_type": "code",
   "execution_count": 54,
   "id": "871888ea",
   "metadata": {},
   "outputs": [],
   "source": [
    "data_new = data_new.iloc[-1:-501:-1]"
   ]
  },
  {
   "cell_type": "markdown",
   "id": "f74fd48a",
   "metadata": {},
   "source": [
    "__8. Find the number of rows with 'volatile acidity' in the range 0.3 to 0.5 and free sulfur dioxide' less than 9.__\n",
    "<br>(2 point)"
   ]
  },
  {
   "cell_type": "code",
   "execution_count": 73,
   "id": "a3e42739",
   "metadata": {},
   "outputs": [
    {
     "data": {
      "text/plain": [
       "147"
      ]
     },
     "execution_count": 73,
     "metadata": {},
     "output_type": "execute_result"
    }
   ],
   "source": [
    "len((data.loc[(data['volatile acidity']>0.3) & (data['free sulfur dioxide'] < 9) &(data['volatile acidity']<0.5)]).index)"
   ]
  },
  {
   "cell_type": "markdown",
   "id": "ad14d12f",
   "metadata": {},
   "source": [
    "__9. Find the most unsuitable attribute that can be used for predicting quality of wine. Give reasons for your choice.__\n",
    "<br>(2 points)"
   ]
  },
  {
   "cell_type": "code",
   "execution_count": 79,
   "id": "92bca900",
   "metadata": {},
   "outputs": [
    {
     "data": {
      "text/html": [
       "<div>\n",
       "<style scoped>\n",
       "    .dataframe tbody tr th:only-of-type {\n",
       "        vertical-align: middle;\n",
       "    }\n",
       "\n",
       "    .dataframe tbody tr th {\n",
       "        vertical-align: top;\n",
       "    }\n",
       "\n",
       "    .dataframe thead th {\n",
       "        text-align: right;\n",
       "    }\n",
       "</style>\n",
       "<table border=\"1\" class=\"dataframe\">\n",
       "  <thead>\n",
       "    <tr style=\"text-align: right;\">\n",
       "      <th></th>\n",
       "      <th>fixed acidity</th>\n",
       "      <th>volatile acidity</th>\n",
       "      <th>citric acid</th>\n",
       "      <th>residual sugar</th>\n",
       "      <th>chlorides</th>\n",
       "      <th>free sulfur dioxide</th>\n",
       "      <th>total sulfur dioxide</th>\n",
       "      <th>density</th>\n",
       "      <th>pH</th>\n",
       "      <th>sulphates</th>\n",
       "      <th>alcohol</th>\n",
       "      <th>quality</th>\n",
       "    </tr>\n",
       "  </thead>\n",
       "  <tbody>\n",
       "    <tr>\n",
       "      <th>fixed acidity</th>\n",
       "      <td>1.000000</td>\n",
       "      <td>-0.255956</td>\n",
       "      <td>0.667826</td>\n",
       "      <td>0.110904</td>\n",
       "      <td>0.085116</td>\n",
       "      <td>-0.140783</td>\n",
       "      <td>-0.104641</td>\n",
       "      <td>0.670128</td>\n",
       "      <td>-0.686795</td>\n",
       "      <td>0.190255</td>\n",
       "      <td>-0.061249</td>\n",
       "      <td>0.119437</td>\n",
       "    </tr>\n",
       "    <tr>\n",
       "      <th>volatile acidity</th>\n",
       "      <td>-0.255956</td>\n",
       "      <td>1.000000</td>\n",
       "      <td>-0.551402</td>\n",
       "      <td>-0.002568</td>\n",
       "      <td>0.054738</td>\n",
       "      <td>-0.020620</td>\n",
       "      <td>0.071200</td>\n",
       "      <td>0.023162</td>\n",
       "      <td>0.247687</td>\n",
       "      <td>-0.256656</td>\n",
       "      <td>-0.196885</td>\n",
       "      <td>-0.394631</td>\n",
       "    </tr>\n",
       "    <tr>\n",
       "      <th>citric acid</th>\n",
       "      <td>0.667826</td>\n",
       "      <td>-0.551402</td>\n",
       "      <td>1.000000</td>\n",
       "      <td>0.143850</td>\n",
       "      <td>0.209805</td>\n",
       "      <td>-0.048708</td>\n",
       "      <td>0.048018</td>\n",
       "      <td>0.358471</td>\n",
       "      <td>-0.550844</td>\n",
       "      <td>0.325717</td>\n",
       "      <td>0.104330</td>\n",
       "      <td>0.227396</td>\n",
       "    </tr>\n",
       "    <tr>\n",
       "      <th>residual sugar</th>\n",
       "      <td>0.110904</td>\n",
       "      <td>-0.002568</td>\n",
       "      <td>0.143850</td>\n",
       "      <td>1.000000</td>\n",
       "      <td>0.026484</td>\n",
       "      <td>0.160522</td>\n",
       "      <td>0.201603</td>\n",
       "      <td>0.324454</td>\n",
       "      <td>-0.083291</td>\n",
       "      <td>-0.011816</td>\n",
       "      <td>0.063360</td>\n",
       "      <td>0.013626</td>\n",
       "    </tr>\n",
       "    <tr>\n",
       "      <th>chlorides</th>\n",
       "      <td>0.085116</td>\n",
       "      <td>0.054738</td>\n",
       "      <td>0.209805</td>\n",
       "      <td>0.026484</td>\n",
       "      <td>1.000000</td>\n",
       "      <td>0.000619</td>\n",
       "      <td>0.045417</td>\n",
       "      <td>0.193158</td>\n",
       "      <td>-0.270564</td>\n",
       "      <td>0.394665</td>\n",
       "      <td>-0.223703</td>\n",
       "      <td>-0.130891</td>\n",
       "    </tr>\n",
       "    <tr>\n",
       "      <th>free sulfur dioxide</th>\n",
       "      <td>-0.140783</td>\n",
       "      <td>-0.020620</td>\n",
       "      <td>-0.048708</td>\n",
       "      <td>0.160522</td>\n",
       "      <td>0.000619</td>\n",
       "      <td>1.000000</td>\n",
       "      <td>0.668444</td>\n",
       "      <td>-0.017989</td>\n",
       "      <td>0.056894</td>\n",
       "      <td>0.053880</td>\n",
       "      <td>-0.080512</td>\n",
       "      <td>-0.050827</td>\n",
       "    </tr>\n",
       "    <tr>\n",
       "      <th>total sulfur dioxide</th>\n",
       "      <td>-0.104641</td>\n",
       "      <td>0.071200</td>\n",
       "      <td>0.048018</td>\n",
       "      <td>0.201603</td>\n",
       "      <td>0.045417</td>\n",
       "      <td>0.668444</td>\n",
       "      <td>1.000000</td>\n",
       "      <td>0.078257</td>\n",
       "      <td>-0.077350</td>\n",
       "      <td>0.035105</td>\n",
       "      <td>-0.217407</td>\n",
       "      <td>-0.177145</td>\n",
       "    </tr>\n",
       "    <tr>\n",
       "      <th>density</th>\n",
       "      <td>0.670128</td>\n",
       "      <td>0.023162</td>\n",
       "      <td>0.358471</td>\n",
       "      <td>0.324454</td>\n",
       "      <td>0.193158</td>\n",
       "      <td>-0.017989</td>\n",
       "      <td>0.078257</td>\n",
       "      <td>1.000000</td>\n",
       "      <td>-0.355968</td>\n",
       "      <td>0.146352</td>\n",
       "      <td>-0.504833</td>\n",
       "      <td>-0.183952</td>\n",
       "    </tr>\n",
       "    <tr>\n",
       "      <th>pH</th>\n",
       "      <td>-0.686795</td>\n",
       "      <td>0.247687</td>\n",
       "      <td>-0.550844</td>\n",
       "      <td>-0.083291</td>\n",
       "      <td>-0.270564</td>\n",
       "      <td>0.056894</td>\n",
       "      <td>-0.077350</td>\n",
       "      <td>-0.355968</td>\n",
       "      <td>1.000000</td>\n",
       "      <td>-0.213870</td>\n",
       "      <td>0.213435</td>\n",
       "      <td>-0.055713</td>\n",
       "    </tr>\n",
       "    <tr>\n",
       "      <th>sulphates</th>\n",
       "      <td>0.190255</td>\n",
       "      <td>-0.256656</td>\n",
       "      <td>0.325717</td>\n",
       "      <td>-0.011816</td>\n",
       "      <td>0.394665</td>\n",
       "      <td>0.053880</td>\n",
       "      <td>0.035105</td>\n",
       "      <td>0.146352</td>\n",
       "      <td>-0.213870</td>\n",
       "      <td>1.000000</td>\n",
       "      <td>0.091237</td>\n",
       "      <td>0.248612</td>\n",
       "    </tr>\n",
       "    <tr>\n",
       "      <th>alcohol</th>\n",
       "      <td>-0.061249</td>\n",
       "      <td>-0.196885</td>\n",
       "      <td>0.104330</td>\n",
       "      <td>0.063360</td>\n",
       "      <td>-0.223703</td>\n",
       "      <td>-0.080512</td>\n",
       "      <td>-0.217407</td>\n",
       "      <td>-0.504833</td>\n",
       "      <td>0.213435</td>\n",
       "      <td>0.091237</td>\n",
       "      <td>1.000000</td>\n",
       "      <td>0.479827</td>\n",
       "    </tr>\n",
       "    <tr>\n",
       "      <th>quality</th>\n",
       "      <td>0.119437</td>\n",
       "      <td>-0.394631</td>\n",
       "      <td>0.227396</td>\n",
       "      <td>0.013626</td>\n",
       "      <td>-0.130891</td>\n",
       "      <td>-0.050827</td>\n",
       "      <td>-0.177145</td>\n",
       "      <td>-0.183952</td>\n",
       "      <td>-0.055713</td>\n",
       "      <td>0.248612</td>\n",
       "      <td>0.479827</td>\n",
       "      <td>1.000000</td>\n",
       "    </tr>\n",
       "  </tbody>\n",
       "</table>\n",
       "</div>"
      ],
      "text/plain": [
       "                      fixed acidity  volatile acidity  citric acid  \\\n",
       "fixed acidity              1.000000         -0.255956     0.667826   \n",
       "volatile acidity          -0.255956          1.000000    -0.551402   \n",
       "citric acid                0.667826         -0.551402     1.000000   \n",
       "residual sugar             0.110904         -0.002568     0.143850   \n",
       "chlorides                  0.085116          0.054738     0.209805   \n",
       "free sulfur dioxide       -0.140783         -0.020620    -0.048708   \n",
       "total sulfur dioxide      -0.104641          0.071200     0.048018   \n",
       "density                    0.670128          0.023162     0.358471   \n",
       "pH                        -0.686795          0.247687    -0.550844   \n",
       "sulphates                  0.190255         -0.256656     0.325717   \n",
       "alcohol                   -0.061249         -0.196885     0.104330   \n",
       "quality                    0.119437         -0.394631     0.227396   \n",
       "\n",
       "                      residual sugar  chlorides  free sulfur dioxide  \\\n",
       "fixed acidity               0.110904   0.085116            -0.140783   \n",
       "volatile acidity           -0.002568   0.054738            -0.020620   \n",
       "citric acid                 0.143850   0.209805            -0.048708   \n",
       "residual sugar              1.000000   0.026484             0.160522   \n",
       "chlorides                   0.026484   1.000000             0.000619   \n",
       "free sulfur dioxide         0.160522   0.000619             1.000000   \n",
       "total sulfur dioxide        0.201603   0.045417             0.668444   \n",
       "density                     0.324454   0.193158            -0.017989   \n",
       "pH                         -0.083291  -0.270564             0.056894   \n",
       "sulphates                  -0.011816   0.394665             0.053880   \n",
       "alcohol                     0.063360  -0.223703            -0.080512   \n",
       "quality                     0.013626  -0.130891            -0.050827   \n",
       "\n",
       "                      total sulfur dioxide   density        pH  sulphates  \\\n",
       "fixed acidity                    -0.104641  0.670128 -0.686795   0.190255   \n",
       "volatile acidity                  0.071200  0.023162  0.247687  -0.256656   \n",
       "citric acid                       0.048018  0.358471 -0.550844   0.325717   \n",
       "residual sugar                    0.201603  0.324454 -0.083291  -0.011816   \n",
       "chlorides                         0.045417  0.193158 -0.270564   0.394665   \n",
       "free sulfur dioxide               0.668444 -0.017989  0.056894   0.053880   \n",
       "total sulfur dioxide              1.000000  0.078257 -0.077350   0.035105   \n",
       "density                           0.078257  1.000000 -0.355968   0.146352   \n",
       "pH                               -0.077350 -0.355968  1.000000  -0.213870   \n",
       "sulphates                         0.035105  0.146352 -0.213870   1.000000   \n",
       "alcohol                          -0.217407 -0.504833  0.213435   0.091237   \n",
       "quality                          -0.177145 -0.183952 -0.055713   0.248612   \n",
       "\n",
       "                       alcohol   quality  \n",
       "fixed acidity        -0.061249  0.119437  \n",
       "volatile acidity     -0.196885 -0.394631  \n",
       "citric acid           0.104330  0.227396  \n",
       "residual sugar        0.063360  0.013626  \n",
       "chlorides            -0.223703 -0.130891  \n",
       "free sulfur dioxide  -0.080512 -0.050827  \n",
       "total sulfur dioxide -0.217407 -0.177145  \n",
       "density              -0.504833 -0.183952  \n",
       "pH                    0.213435 -0.055713  \n",
       "sulphates             0.091237  0.248612  \n",
       "alcohol               1.000000  0.479827  \n",
       "quality               0.479827  1.000000  "
      ]
     },
     "execution_count": 79,
     "metadata": {},
     "output_type": "execute_result"
    }
   ],
   "source": [
    "cm = data.corr()\n",
    "cm"
   ]
  },
  {
   "cell_type": "code",
   "execution_count": 81,
   "id": "9b3301e0",
   "metadata": {},
   "outputs": [
    {
     "name": "stdout",
     "output_type": "stream",
     "text": [
      "Volatile acidity is the most unsuitable attribute for predicting quality\n"
     ]
    }
   ],
   "source": [
    "print(\"Volatile acidity is the most unsuitable attribute for predicting quality due to its least correlation.\")"
   ]
  },
  {
   "cell_type": "markdown",
   "id": "54cd154a",
   "metadata": {},
   "source": [
    "__10. The pH value is always measured in a scale of 0 to 14. So, we need to bring it to the sclae of 0 to 1 improve perfomance of ML models. Normalize the attribute 'pH'in dataframe keeping in mind that the maximum possible pH value is 14.__\n",
    "<br>(1 point)"
   ]
  },
  {
   "cell_type": "code",
   "execution_count": 84,
   "id": "2055a29e",
   "metadata": {},
   "outputs": [],
   "source": [
    "data['pH'] = data['pH']/14"
   ]
  },
  {
   "cell_type": "code",
   "execution_count": 85,
   "id": "b75a2221",
   "metadata": {},
   "outputs": [
    {
     "data": {
      "text/html": [
       "<div>\n",
       "<style scoped>\n",
       "    .dataframe tbody tr th:only-of-type {\n",
       "        vertical-align: middle;\n",
       "    }\n",
       "\n",
       "    .dataframe tbody tr th {\n",
       "        vertical-align: top;\n",
       "    }\n",
       "\n",
       "    .dataframe thead th {\n",
       "        text-align: right;\n",
       "    }\n",
       "</style>\n",
       "<table border=\"1\" class=\"dataframe\">\n",
       "  <thead>\n",
       "    <tr style=\"text-align: right;\">\n",
       "      <th></th>\n",
       "      <th>fixed acidity</th>\n",
       "      <th>volatile acidity</th>\n",
       "      <th>citric acid</th>\n",
       "      <th>residual sugar</th>\n",
       "      <th>chlorides</th>\n",
       "      <th>free sulfur dioxide</th>\n",
       "      <th>total sulfur dioxide</th>\n",
       "      <th>density</th>\n",
       "      <th>pH</th>\n",
       "      <th>sulphates</th>\n",
       "      <th>alcohol</th>\n",
       "      <th>quality</th>\n",
       "    </tr>\n",
       "  </thead>\n",
       "  <tbody>\n",
       "    <tr>\n",
       "      <th>0</th>\n",
       "      <td>7.4</td>\n",
       "      <td>0.70</td>\n",
       "      <td>0.00</td>\n",
       "      <td>1.9</td>\n",
       "      <td>0.076</td>\n",
       "      <td>11.0</td>\n",
       "      <td>34.0</td>\n",
       "      <td>0.9978</td>\n",
       "      <td>0.250714</td>\n",
       "      <td>0.56</td>\n",
       "      <td>9.4</td>\n",
       "      <td>5</td>\n",
       "    </tr>\n",
       "    <tr>\n",
       "      <th>1</th>\n",
       "      <td>7.8</td>\n",
       "      <td>0.88</td>\n",
       "      <td>0.00</td>\n",
       "      <td>2.6</td>\n",
       "      <td>0.098</td>\n",
       "      <td>25.0</td>\n",
       "      <td>67.0</td>\n",
       "      <td>0.9968</td>\n",
       "      <td>0.228571</td>\n",
       "      <td>0.68</td>\n",
       "      <td>9.8</td>\n",
       "      <td>5</td>\n",
       "    </tr>\n",
       "    <tr>\n",
       "      <th>2</th>\n",
       "      <td>7.8</td>\n",
       "      <td>0.76</td>\n",
       "      <td>0.04</td>\n",
       "      <td>2.3</td>\n",
       "      <td>0.092</td>\n",
       "      <td>15.0</td>\n",
       "      <td>54.0</td>\n",
       "      <td>0.9970</td>\n",
       "      <td>0.232857</td>\n",
       "      <td>0.65</td>\n",
       "      <td>9.8</td>\n",
       "      <td>5</td>\n",
       "    </tr>\n",
       "    <tr>\n",
       "      <th>3</th>\n",
       "      <td>11.2</td>\n",
       "      <td>0.28</td>\n",
       "      <td>0.56</td>\n",
       "      <td>1.9</td>\n",
       "      <td>0.075</td>\n",
       "      <td>17.0</td>\n",
       "      <td>60.0</td>\n",
       "      <td>0.9980</td>\n",
       "      <td>0.225714</td>\n",
       "      <td>0.58</td>\n",
       "      <td>9.8</td>\n",
       "      <td>6</td>\n",
       "    </tr>\n",
       "    <tr>\n",
       "      <th>5</th>\n",
       "      <td>7.4</td>\n",
       "      <td>0.66</td>\n",
       "      <td>0.00</td>\n",
       "      <td>1.8</td>\n",
       "      <td>0.075</td>\n",
       "      <td>13.0</td>\n",
       "      <td>40.0</td>\n",
       "      <td>0.9978</td>\n",
       "      <td>0.250714</td>\n",
       "      <td>0.56</td>\n",
       "      <td>9.4</td>\n",
       "      <td>5</td>\n",
       "    </tr>\n",
       "  </tbody>\n",
       "</table>\n",
       "</div>"
      ],
      "text/plain": [
       "   fixed acidity  volatile acidity  citric acid  residual sugar  chlorides  \\\n",
       "0            7.4              0.70         0.00             1.9      0.076   \n",
       "1            7.8              0.88         0.00             2.6      0.098   \n",
       "2            7.8              0.76         0.04             2.3      0.092   \n",
       "3           11.2              0.28         0.56             1.9      0.075   \n",
       "5            7.4              0.66         0.00             1.8      0.075   \n",
       "\n",
       "   free sulfur dioxide  total sulfur dioxide  density        pH  sulphates  \\\n",
       "0                 11.0                  34.0   0.9978  0.250714       0.56   \n",
       "1                 25.0                  67.0   0.9968  0.228571       0.68   \n",
       "2                 15.0                  54.0   0.9970  0.232857       0.65   \n",
       "3                 17.0                  60.0   0.9980  0.225714       0.58   \n",
       "5                 13.0                  40.0   0.9978  0.250714       0.56   \n",
       "\n",
       "   alcohol  quality  \n",
       "0      9.4        5  \n",
       "1      9.8        5  \n",
       "2      9.8        5  \n",
       "3      9.8        6  \n",
       "5      9.4        5  "
      ]
     },
     "execution_count": 85,
     "metadata": {},
     "output_type": "execute_result"
    }
   ],
   "source": [
    "data.head()"
   ]
  }
 ],
 "metadata": {
  "kernelspec": {
   "display_name": "Python 3 (ipykernel)",
   "language": "python",
   "name": "python3"
  },
  "language_info": {
   "codemirror_mode": {
    "name": "ipython",
    "version": 3
   },
   "file_extension": ".py",
   "mimetype": "text/x-python",
   "name": "python",
   "nbconvert_exporter": "python",
   "pygments_lexer": "ipython3",
   "version": "3.9.12"
  }
 },
 "nbformat": 4,
 "nbformat_minor": 5
}
