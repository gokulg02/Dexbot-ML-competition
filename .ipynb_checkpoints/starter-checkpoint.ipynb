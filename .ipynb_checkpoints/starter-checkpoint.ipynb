{
 "cells": [
  {
   "cell_type": "code",
   "execution_count": null,
   "id": "4f33eb8b",
   "metadata": {},
   "outputs": [],
   "source": [
    "import numpy as np\n",
    "import pandas as pd\n",
    "import matplotlib.pyplot as plt"
   ]
  },
  {
   "cell_type": "code",
   "execution_count": null,
   "id": "0fc3fa5a",
   "metadata": {},
   "outputs": [],
   "source": [
    "data = pd.read_csv('wine_dataset.csv')"
   ]
  },
  {
   "cell_type": "markdown",
   "id": "f00b05f1",
   "metadata": {},
   "source": [
    "__1. Display the first seven rows of dataset.__\n",
    "<br>(1 points)"
   ]
  },
  {
   "cell_type": "code",
   "execution_count": null,
   "id": "44c21404",
   "metadata": {},
   "outputs": [],
   "source": []
  },
  {
   "cell_type": "markdown",
   "id": "704a6cf3",
   "metadata": {},
   "source": [
    "__2. Find the number of entries and attributes in given dataset.__\n",
    "<br>(1 point)"
   ]
  },
  {
   "cell_type": "code",
   "execution_count": null,
   "id": "acdd00ed",
   "metadata": {},
   "outputs": [],
   "source": []
  },
  {
   "cell_type": "markdown",
   "id": "227bf023",
   "metadata": {},
   "source": [
    "__3. Find the number of empty elements in dataset and eliminate them using any appropriate method. Also explain the reason behind using that method.__\n",
    "<br>(2 points)"
   ]
  },
  {
   "cell_type": "code",
   "execution_count": null,
   "id": "e41d2cd9",
   "metadata": {},
   "outputs": [],
   "source": []
  },
  {
   "cell_type": "markdown",
   "id": "897ea17d",
   "metadata": {},
   "source": [
    "__4. Find the number of duplicate elements in a dataset and eliminate them.__\n",
    "<br>(2 points)"
   ]
  },
  {
   "cell_type": "code",
   "execution_count": null,
   "id": "9fe70474",
   "metadata": {},
   "outputs": [],
   "source": []
  },
  {
   "cell_type": "markdown",
   "id": "83cb4e35",
   "metadata": {},
   "source": [
    "__5. Find the number of occurances of each value in the attribute \"quality\".__\n",
    "<br>(1 point)"
   ]
  },
  {
   "cell_type": "code",
   "execution_count": null,
   "id": "6e08d9d0",
   "metadata": {},
   "outputs": [],
   "source": []
  },
  {
   "cell_type": "markdown",
   "id": "3077078e",
   "metadata": {},
   "source": [
    "__6. Find the maximum element in first column and the row number in which it occurs.__\n",
    "<br>(1 point)"
   ]
  },
  {
   "cell_type": "code",
   "execution_count": null,
   "id": "62693c30",
   "metadata": {},
   "outputs": [],
   "source": []
  },
  {
   "cell_type": "markdown",
   "id": "190f48f8",
   "metadata": {},
   "source": [
    "__7. Create a new data frame \"data_mod\" with the last four columns and the column 'chlorides'  from \"data\". Also \"data_new\" should consist only of the last 500 rows from \"data\".__\n",
    "<br>(2 points)"
   ]
  },
  {
   "cell_type": "code",
   "execution_count": null,
   "id": "73e2dc87",
   "metadata": {},
   "outputs": [],
   "source": []
  },
  {
   "cell_type": "markdown",
   "id": "f74fd48a",
   "metadata": {},
   "source": [
    "__8. Find the number of rows with 'volatile acidity' in the range 0.3 to 0.5 and free sulfur dioxide' less than 9.__\n",
    "<br>(2 point)"
   ]
  },
  {
   "cell_type": "code",
   "execution_count": null,
   "id": "a3e42739",
   "metadata": {},
   "outputs": [],
   "source": []
  },
  {
   "cell_type": "markdown",
   "id": "ad14d12f",
   "metadata": {},
   "source": [
    "__9. Find the most unsuitable attribute that can be used for predicting quality of wine. Give reasons for your choice.__\n",
    "<br>(2 points)"
   ]
  },
  {
   "cell_type": "code",
   "execution_count": null,
   "id": "9b3301e0",
   "metadata": {},
   "outputs": [],
   "source": []
  },
  {
   "cell_type": "markdown",
   "id": "54cd154a",
   "metadata": {},
   "source": [
    "__10. The pH value is always measured in a scale of 0 to 14. So, we need to bring it to the sclae of 0 to 1 improve perfomance of ML models. Normalize the attribute 'pH'in dataframe keeping in mind that the maximum possible pH value is 14.__\n",
    "<br>(1 point)"
   ]
  },
  {
   "cell_type": "code",
   "execution_count": null,
   "id": "2055a29e",
   "metadata": {},
   "outputs": [],
   "source": []
  }
 ],
 "metadata": {
  "kernelspec": {
   "display_name": "Python 3 (ipykernel)",
   "language": "python",
   "name": "python3"
  },
  "language_info": {
   "codemirror_mode": {
    "name": "ipython",
    "version": 3
   },
   "file_extension": ".py",
   "mimetype": "text/x-python",
   "name": "python",
   "nbconvert_exporter": "python",
   "pygments_lexer": "ipython3",
   "version": "3.9.12"
  }
 },
 "nbformat": 4,
 "nbformat_minor": 5
}
